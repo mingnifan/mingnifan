{
 "cells": [
  {
   "cell_type": "code",
   "execution_count": 1,
   "id": "ab052637",
   "metadata": {},
   "outputs": [],
   "source": [
    "from sklearn.datasets import load_iris\n",
    "from sklearn.model_selection import train_test_split\n",
    "from sklearn.preprocessing import StandardScaler\n",
    "from sklearn.neural_network import MLPClassifier\n",
    "from sklearn.neural_network import MLPRegressor\n",
    "from sklearn.metrics import confusion_matrix\n",
    "from sklearn.metrics import classification_report"
   ]
  },
  {
   "cell_type": "code",
   "execution_count": 3,
   "id": "abac4b43",
   "metadata": {},
   "outputs": [],
   "source": [
    "# MLP 实现神经网络分类\n",
    "def mlp_classifier(x_train, x_test):\n",
    "    \"\"\"\n",
    "    实现MLP分类\n",
    "    :param x_train: 标准化训练集\n",
    "    :param x_test: 标准化测试集\n",
    "    :return: None\n",
    "    \"\"\"\n",
    "    # 使用预估计器\n",
    "    estimator = MLPClassifier(max_iter=1000, random_state=11)\n",
    "    estimator.fit(x_train, y_train)\n",
    "\n",
    "    # 模型评估\n",
    "    print('MLP实现神经网络分类：\\n')\n",
    "    y_predict = estimator.predict(x_test)\n",
    "    print(\"y_predict:\\n\", y_predict)\n",
    "    # 对比真实值和预测值\n",
    "    print('对比真实值和预测值：\\n', y_predict == y_test)\n",
    "    print('混淆矩阵为： \\n', confusion_matrix(y_test, y_predict))\n",
    "    print('分类报告为： \\n', classification_report(y_test, y_predict))\n",
    "\n",
    "    # 计算准确率\n",
    "    score = estimator.score(x_test, y_test)\n",
    "    print(\"准确率为：\", score)"
   ]
  },
  {
   "cell_type": "code",
   "execution_count": 4,
   "id": "117558d2",
   "metadata": {},
   "outputs": [],
   "source": [
    "def mlp_regression(x_train, x_test):\n",
    "    \"\"\"\n",
    "    使用MLP算法实现神经网络回归\n",
    "    :return:\n",
    "    \"\"\"\n",
    "    # 使用预估计器\n",
    "    estimator = MLPRegressor(solver='lbfgs', alpha=1e-5, hidden_layer_sizes=(5,2), max_iter=1000, random_state=1)\n",
    "    estimator.fit(x_train, y_train)\n",
    "\n",
    "    # 模型评估\n",
    "    print('MLP实现神经网络回归：\\n')\n",
    "    y_predict = estimator.predict(x_test)\n",
    "    print('y_predict:\\n', y_predict)\n",
    "    # 对比真实值和预测值\n",
    "    print('对比真实值和预测值: \\n', y_predict == y_test)\n",
    "\n",
    "    # 计算精确度\n",
    "    score = estimator.score(x_test, y_test)\n",
    "    print('精确度为：', score)"
   ]
  },
  {
   "cell_type": "code",
   "execution_count": 6,
   "id": "dfc656a5",
   "metadata": {},
   "outputs": [
    {
     "name": "stdout",
     "output_type": "stream",
     "text": [
      "MLP实现神经网络分类：\n",
      "\n",
      "y_predict:\n",
      " [0 2 1 2 1 1 1 2 1 0 2 1 2 2 0 2 1 1 1 1 0 2 0 1 2 0 2 2 2 2 0 0 1 1 1 0 0\n",
      " 0]\n",
      "对比真实值和预测值：\n",
      " [ True  True  True  True  True  True  True  True  True  True  True  True\n",
      "  True  True  True  True  True  True False  True  True  True  True  True\n",
      "  True  True  True  True  True  True  True  True  True  True  True  True\n",
      "  True  True]\n",
      "混淆矩阵为： \n",
      " [[11  0  0]\n",
      " [ 0 13  0]\n",
      " [ 0  1 13]]\n",
      "分类报告为： \n",
      "               precision    recall  f1-score   support\n",
      "\n",
      "           0       1.00      1.00      1.00        11\n",
      "           1       0.93      1.00      0.96        13\n",
      "           2       1.00      0.93      0.96        14\n",
      "\n",
      "    accuracy                           0.97        38\n",
      "   macro avg       0.98      0.98      0.98        38\n",
      "weighted avg       0.98      0.97      0.97        38\n",
      "\n",
      "准确率为： 0.9736842105263158\n",
      "========================================================================================================================\n",
      "MLP实现神经网络回归：\n",
      "\n",
      "y_predict:\n",
      " [-2.28849876e-03  1.99790272e+00  1.01821130e+00  1.99790272e+00\n",
      "  1.20514526e+00  1.22760092e+00  1.18406142e+00  1.81523269e+00\n",
      "  7.55567948e-01  7.34525317e-03  1.99790272e+00  7.70011803e-01\n",
      "  1.99790272e+00  1.99790272e+00  5.42395938e-02  1.75230920e+00\n",
      "  1.03482408e+00  1.08372241e+00  1.31924000e+00  9.72763677e-01\n",
      " -1.10182134e-02  1.84292115e+00  7.66779554e-03  1.01813046e+00\n",
      "  1.99790272e+00  9.19180235e-05  1.72531186e+00  1.95321056e+00\n",
      "  1.99790272e+00  1.78754214e+00 -5.18543775e-03  3.33052877e-02\n",
      "  1.16636388e+00  1.28256098e+00  1.21365793e+00  2.45513255e-02\n",
      " -2.36124120e-03 -2.11461241e-02]\n",
      "对比真实值和预测值: \n",
      " [False False False False False False False False False False False False\n",
      " False False False False False False False False False False False False\n",
      " False False False False False False False False False False False False\n",
      " False False]\n",
      "精确度为： 0.9549741914543556\n"
     ]
    }
   ],
   "source": [
    "# 程序运行接口\n",
    "if __name__ == '__main__':\n",
    "    # 获取鸢尾花数据集\n",
    "    iris = load_iris()\n",
    "    x_train, x_test, y_train, y_test = train_test_split(iris.data, iris.target, random_state=22)\n",
    "\n",
    "    # 数据标准化处理\n",
    "    transfer = StandardScaler()\n",
    "    x_train = transfer.fit_transform(x_train)\n",
    "    x_test = transfer.transform(x_test)\n",
    "\n",
    "    mlp_classifier(x_train=x_train, x_test=x_test)\n",
    "    print('======' * 20)\n",
    "    mlp_regression(x_train=x_train, x_test=x_test)\n"
   ]
  },
  {
   "cell_type": "code",
   "execution_count": null,
   "id": "e8ef11d6",
   "metadata": {},
   "outputs": [],
   "source": []
  }
 ],
 "metadata": {
  "kernelspec": {
   "display_name": "Python 3",
   "language": "python",
   "name": "python3"
  },
  "language_info": {
   "codemirror_mode": {
    "name": "ipython",
    "version": 3
   },
   "file_extension": ".py",
   "mimetype": "text/x-python",
   "name": "python",
   "nbconvert_exporter": "python",
   "pygments_lexer": "ipython3",
   "version": "3.8.4"
  }
 },
 "nbformat": 4,
 "nbformat_minor": 5
}
