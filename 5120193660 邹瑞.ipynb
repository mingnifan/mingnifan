{
 "cells": [
  {
   "cell_type": "code",
   "execution_count": 3,
   "metadata": {},
   "outputs": [],
   "source": [
    "from numpy import *\n",
    "import matplotlib.pyplot as plt"
   ]
  },
  {
   "cell_type": "code",
   "execution_count": 4,
   "metadata": {},
   "outputs": [],
   "source": [
    "def loadDataSet():\n",
    "    dataMatrix = []\n",
    "    dataLabel = []\n",
    "    f = open('数据')\n",
    "    for line in f.readlines():\n",
    "        # print(line)\n",
    "        lineList = line.strip().split()\n",
    "        dataMatrix.append([1, float(lineList[0]), float(lineList[1])])\n",
    "        dataLabel.append(int(lineList[2]))\n",
    "    matLabel = mat(dataLabel).transpose()\n",
    "    return dataMatrix, matLabel"
   ]
  },
  {
   "cell_type": "code",
   "execution_count": 5,
   "metadata": {},
   "outputs": [],
   "source": [
    "def sigmoid(inX):\n",
    "    return 1 / (1 + exp(-inX))"
   ]
  },
  {
   "cell_type": "code",
   "execution_count": 12,
   "metadata": {},
   "outputs": [],
   "source": [
    "def stocGraAscent1(dataMatrix, matLabel):\n",
    "    m, n = shape(dataMatrix)\n",
    "    matMatrix = mat(dataMatrix)\n",
    "\n",
    "    w = ones((n, 1))\n",
    "    num = 200\n",
    "    setIndex = set([])\n",
    "    for i in range(num):\n",
    "        for j in range(m):\n",
    "            alpha = 4 / (1 + i + j) + 0.01\n",
    "\n",
    "            dataIndex = random.randint(0, 100)\n",
    "            while dataIndex in setIndex:\n",
    "                setIndex.add(dataIndex)\n",
    "                dataIndex = random.randint(0, 100)\n",
    "            error = sigmoid(matMatrix[dataIndex] * w) - matLabel[dataIndex]\n",
    "            w = w - alpha * matMatrix[dataIndex].transpose() * error\n",
    "    return w"
   ]
  },
  {
   "cell_type": "code",
   "execution_count": 13,
   "metadata": {},
   "outputs": [],
   "source": [
    "def draw(weight):\n",
    "    x0List = []\n",
    "    y0List = []\n",
    "    x1List = []\n",
    "    y1List = []\n",
    "    f = open('数据.txt', 'r')\n",
    "    for line in f.readlines():\n",
    "        lineList = line.strip().split()\n",
    "        if lineList[2] == '0':\n",
    "            x0List.append(float(lineList[0]))\n",
    "            y0List.append(float(lineList[1]))\n",
    "        else:\n",
    "            x1List.append(float(lineList[0]))\n",
    "            y1List.append(float(lineList[1]))\n",
    "\n",
    "    fig = plt.figure()\n",
    "    ax = fig.add_subplot(111)\n",
    "    ax.scatter(x0List, y0List, s=10, c='red')\n",
    "    ax.scatter(x1List, y1List, s=10, c='green')\n",
    "\n",
    "    xList = []\n",
    "    yList = []\n",
    "    x = arange(-3, 3, 0.1)\n",
    "    for i in arange(len(x)):\n",
    "        xList.append(x[i])\n",
    "\n",
    "    y = (-weight[0] - weight[1] * x) / weight[2]\n",
    "    for j in arange(y.shape[1]):\n",
    "        yList.append(y[0, j])\n",
    "\n",
    "    ax.plot(xList, yList)\n",
    "    plt.xlabel('x1');\n",
    "    plt.ylabel('x2')\n",
    "    plt.show()"
   ]
  },
  {
   "cell_type": "code",
   "execution_count": 14,
   "metadata": {},
   "outputs": [
    {
     "name": "stdout",
     "output_type": "stream",
     "text": [
      "[[14.59015816]\n",
      " [ 1.15974949]\n",
      " [-1.9381248 ]]\n"
     ]
    },
    {
     "data": {
      "image/png": "[encoded data removed]",
      "text/plain": [
       "<Figure size 432x288 with 1 Axes>"
      ]
     },
     "metadata": {
      "needs_background": "light"
     },
     "output_type": "display_data"
    }
   ],
   "source": [
    "if __name__ == '__main__':\n",
    "    dataMatrix, matLabel = loadDataSet()\n",
    "    # weight=graAscent(dataMatrix,matLabel)\n",
    "    weight = stocGraAscent1(dataMatrix, matLabel)\n",
    "    print(weight)\n",
    "    draw(weight)"
   ]
  },
  {
   "cell_type": "code",
   "execution_count": null,
   "metadata": {},
   "outputs": [],
   "source": []
  }
 ],
 "metadata": {
  "kernelspec": {
   "display_name": "Python 3",
   "language": "python",
   "name": "python3"
  },
  "language_info": {
   "codemirror_mode": {
    "name": "ipython",
    "version": 3
   },
   "file_extension": ".py",
   "mimetype": "text/x-python",
   "name": "python",
   "nbconvert_exporter": "python",
   "pygments_lexer": "ipython3",
   "version": "3.7.3"
  }
 },
 "nbformat": 4,
 "nbformat_minor": 5
}
